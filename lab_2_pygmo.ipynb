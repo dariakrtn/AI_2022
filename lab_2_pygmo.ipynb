{
  "nbformat": 4,
  "nbformat_minor": 0,
  "metadata": {
    "colab": {
      "provenance": [],
      "collapsed_sections": [],
      "authorship_tag": "ABX9TyMlS7MrgqRJoR8CSlFXYath",
      "include_colab_link": true
    },
    "kernelspec": {
      "name": "python3",
      "display_name": "Python 3"
    },
    "language_info": {
      "name": "python"
    }
  },
  "cells": [
    {
      "cell_type": "markdown",
      "metadata": {
        "id": "view-in-github",
        "colab_type": "text"
      },
      "source": [
        "<a href=\"https://colab.research.google.com/github/dariakrtn/AI_2022/blob/main/lab_2_pygmo.ipynb\" target=\"_parent\"><img src=\"https://colab.research.google.com/assets/colab-badge.svg\" alt=\"Open In Colab\"/></a>"
      ]
    },
    {
      "cell_type": "code",
      "execution_count": 1,
      "metadata": {
        "colab": {
          "base_uri": "https://localhost:8080/"
        },
        "id": "-b2k-cveaD5U",
        "outputId": "d20d63e8-3516-4608-cb06-08a361b3a137"
      },
      "outputs": [
        {
          "output_type": "stream",
          "name": "stdout",
          "text": [
            "Looking in indexes: https://pypi.org/simple, https://us-python.pkg.dev/colab-wheels/public/simple/\n",
            "Collecting pygmo\n",
            "  Downloading pygmo-2.16.1-cp37-cp37m-manylinux2010_x86_64.whl (11.5 MB)\n",
            "\u001b[K     |████████████████████████████████| 11.5 MB 17.0 MB/s \n",
            "\u001b[?25hRequirement already satisfied: cloudpickle in /usr/local/lib/python3.7/dist-packages (from pygmo) (1.5.0)\n",
            "Requirement already satisfied: numpy in /usr/local/lib/python3.7/dist-packages (from pygmo) (1.21.6)\n",
            "Installing collected packages: pygmo\n",
            "Successfully installed pygmo-2.16.1\n"
          ]
        }
      ],
      "source": [
        "!pip install pygmo"
      ]
    },
    {
      "cell_type": "code",
      "source": [
        "import pygmo as pg"
      ],
      "metadata": {
        "id": "bdx9mqUkask-"
      },
      "execution_count": 2,
      "outputs": []
    },
    {
      "cell_type": "markdown",
      "source": [
        "функция Матьяса"
      ],
      "metadata": {
        "id": "RMHjiNT4JO7r"
      }
    },
    {
      "cell_type": "code",
      "source": [
        "class f_mat:\n",
        "\n",
        "  def fitness (self, x):\n",
        "    return [0.26*(x[0]*x[0] +x[1]*x[1])-0.48*x[0]*x[1]]\n",
        "\n",
        "  def get_bounds (self):\n",
        "    return ([-10,-10],[10,10])"
      ],
      "metadata": {
        "id": "_4RYFcttgoVR"
      },
      "execution_count": 3,
      "outputs": []
    },
    {
      "cell_type": "code",
      "source": [
        "prob = pg.problem(f_mat())\n",
        "print(prob) "
      ],
      "metadata": {
        "colab": {
          "base_uri": "https://localhost:8080/"
        },
        "id": "ZYh7IY86hB0o",
        "outputId": "3bc2b4a9-e4ab-4fe2-8213-dbe0df349d6b"
      },
      "execution_count": 4,
      "outputs": [
        {
          "output_type": "stream",
          "name": "stdout",
          "text": [
            "Problem name: <class '__main__.f_mat'>\n",
            "\tC++ class name: pybind11::object\n",
            "\n",
            "\tGlobal dimension:\t\t\t2\n",
            "\tInteger dimension:\t\t\t0\n",
            "\tFitness dimension:\t\t\t1\n",
            "\tNumber of objectives:\t\t\t1\n",
            "\tEquality constraints dimension:\t\t0\n",
            "\tInequality constraints dimension:\t0\n",
            "\tLower bounds: [-10, -10]\n",
            "\tUpper bounds: [10, 10]\n",
            "\tHas batch fitness evaluation: false\n",
            "\n",
            "\tHas gradient: false\n",
            "\tUser implemented gradient sparsity: false\n",
            "\tHas hessians: false\n",
            "\tUser implemented hessians sparsity: false\n",
            "\n",
            "\tFitness evaluations: 0\n",
            "\n",
            "\tThread safety: none\n",
            "\n"
          ]
        }
      ]
    },
    {
      "cell_type": "code",
      "source": [
        "algo = pg.algorithm(pg.bee_colony(gen = 40, limit = 50))\n",
        "pop = pg.population(prob,100)\n",
        "pop = algo.evolve(pop)\n",
        "print(pop.champion_f) \n",
        "print(pop.champion_x) "
      ],
      "metadata": {
        "colab": {
          "base_uri": "https://localhost:8080/"
        },
        "id": "8EccRsUAh4sw",
        "outputId": "9dbba835-b02a-48a4-8f8e-21c1c4f14b16"
      },
      "execution_count": 5,
      "outputs": [
        {
          "output_type": "stream",
          "name": "stdout",
          "text": [
            "[8.34968538e-05]\n",
            "[-0.04335365 -0.03345343]\n"
          ]
        }
      ]
    },
    {
      "cell_type": "markdown",
      "source": [
        "функция трехгорбого верблюда"
      ],
      "metadata": {
        "id": "0HvV_f-0JRr0"
      }
    },
    {
      "cell_type": "code",
      "source": [
        "class f_3ver:\n",
        "\n",
        "  def fitness (self, x):\n",
        "    return [2*x[0]*x[0] -1.05 * x[0]**4 + (x[0]**6)/6 + x[0]*x[1] + x[1]*x[1]]\n",
        "\n",
        "  def get_bounds (self):\n",
        "    return ([-10,-10],[10,10])"
      ],
      "metadata": {
        "id": "pkalNRiaHNGO"
      },
      "execution_count": 6,
      "outputs": []
    },
    {
      "cell_type": "code",
      "source": [
        "prob = pg.problem(f_3ver())\n",
        "print(prob) "
      ],
      "metadata": {
        "colab": {
          "base_uri": "https://localhost:8080/"
        },
        "id": "F0wI3wJOIaYs",
        "outputId": "df567375-6659-4042-a548-41258f42adf8"
      },
      "execution_count": 7,
      "outputs": [
        {
          "output_type": "stream",
          "name": "stdout",
          "text": [
            "Problem name: <class '__main__.f_3ver'>\n",
            "\tC++ class name: pybind11::object\n",
            "\n",
            "\tGlobal dimension:\t\t\t2\n",
            "\tInteger dimension:\t\t\t0\n",
            "\tFitness dimension:\t\t\t1\n",
            "\tNumber of objectives:\t\t\t1\n",
            "\tEquality constraints dimension:\t\t0\n",
            "\tInequality constraints dimension:\t0\n",
            "\tLower bounds: [-10, -10]\n",
            "\tUpper bounds: [10, 10]\n",
            "\tHas batch fitness evaluation: false\n",
            "\n",
            "\tHas gradient: false\n",
            "\tUser implemented gradient sparsity: false\n",
            "\tHas hessians: false\n",
            "\tUser implemented hessians sparsity: false\n",
            "\n",
            "\tFitness evaluations: 0\n",
            "\n",
            "\tThread safety: none\n",
            "\n"
          ]
        }
      ]
    },
    {
      "cell_type": "code",
      "source": [
        "algo = pg.algorithm(pg.bee_colony(gen = 40, limit = 50))\n",
        "pop = pg.population(prob,100)\n",
        "pop = algo.evolve(pop)\n",
        "print(pop.champion_f) \n",
        "print(pop.champion_x) "
      ],
      "metadata": {
        "id": "t9cNepFhiFYN",
        "colab": {
          "base_uri": "https://localhost:8080/"
        },
        "outputId": "1840932e-ccd4-478d-efa6-bf929ca86c33"
      },
      "execution_count": 8,
      "outputs": [
        {
          "output_type": "stream",
          "name": "stdout",
          "text": [
            "[2.04940863e-06]\n",
            "[0.00084103 0.00048036]\n"
          ]
        }
      ]
    },
    {
      "cell_type": "markdown",
      "source": [
        "Функция Химмельблау"
      ],
      "metadata": {
        "id": "cp2JG-DfLhQz"
      }
    },
    {
      "cell_type": "code",
      "source": [
        "class f_him:\n",
        "\n",
        "  def fitness (self, x):\n",
        "    return [(x[0]**2 + x[1] - 11)**2 + (x[0] + x[1] **2 - 7)**2]\n",
        "\n",
        "  def get_bounds (self):\n",
        "    return ([-10,-10],[10,10])"
      ],
      "metadata": {
        "id": "3JXVlBwOIjQl"
      },
      "execution_count": 9,
      "outputs": []
    },
    {
      "cell_type": "code",
      "source": [
        "prob = pg.problem(f_him())\n",
        "print(prob) "
      ],
      "metadata": {
        "colab": {
          "base_uri": "https://localhost:8080/"
        },
        "id": "XSifTjA0JA6x",
        "outputId": "22fd72a5-8ee8-457d-be16-34d555e73462"
      },
      "execution_count": 10,
      "outputs": [
        {
          "output_type": "stream",
          "name": "stdout",
          "text": [
            "Problem name: <class '__main__.f_him'>\n",
            "\tC++ class name: pybind11::object\n",
            "\n",
            "\tGlobal dimension:\t\t\t2\n",
            "\tInteger dimension:\t\t\t0\n",
            "\tFitness dimension:\t\t\t1\n",
            "\tNumber of objectives:\t\t\t1\n",
            "\tEquality constraints dimension:\t\t0\n",
            "\tInequality constraints dimension:\t0\n",
            "\tLower bounds: [-10, -10]\n",
            "\tUpper bounds: [10, 10]\n",
            "\tHas batch fitness evaluation: false\n",
            "\n",
            "\tHas gradient: false\n",
            "\tUser implemented gradient sparsity: false\n",
            "\tHas hessians: false\n",
            "\tUser implemented hessians sparsity: false\n",
            "\n",
            "\tFitness evaluations: 0\n",
            "\n",
            "\tThread safety: none\n",
            "\n"
          ]
        }
      ]
    },
    {
      "cell_type": "code",
      "source": [
        "algo = pg.algorithm(pg.bee_colony(gen = 40, limit = 50))\n",
        "pop = pg.population(prob,100)\n",
        "pop = algo.evolve(pop)\n",
        "print(pop.champion_f) \n",
        "print(pop.champion_x) "
      ],
      "metadata": {
        "colab": {
          "base_uri": "https://localhost:8080/"
        },
        "id": "-x0HN34AJFO2",
        "outputId": "9ff3eaad-4ad7-4bfa-93df-e3e88b28c6ed"
      },
      "execution_count": 11,
      "outputs": [
        {
          "output_type": "stream",
          "name": "stdout",
          "text": [
            "[0.00030687]\n",
            "[-3.77705779 -3.28157315]\n"
          ]
        }
      ]
    },
    {
      "cell_type": "code",
      "source": [],
      "metadata": {
        "id": "XB0T_Sc8JF3J"
      },
      "execution_count": null,
      "outputs": []
    }
  ]
}