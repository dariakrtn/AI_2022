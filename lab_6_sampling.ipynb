{
  "nbformat": 4,
  "nbformat_minor": 0,
  "metadata": {
    "colab": {
      "provenance": [],
      "include_colab_link": true
    },
    "kernelspec": {
      "name": "python3",
      "display_name": "Python 3"
    },
    "language_info": {
      "name": "python"
    }
  },
  "cells": [
    {
      "cell_type": "markdown",
      "metadata": {
        "id": "view-in-github",
        "colab_type": "text"
      },
      "source": [
        "<a href=\"https://colab.research.google.com/github/dariakrtn/AI_2022/blob/main/lab_6_sampling.ipynb\" target=\"_parent\"><img src=\"https://colab.research.google.com/assets/colab-badge.svg\" alt=\"Open In Colab\"/></a>"
      ]
    },
    {
      "cell_type": "code",
      "source": [
        "import numpy as np\n",
        "from matplotlib import pyplot as plt\n",
        "from typing import Mapping\n",
        "import random"
      ],
      "metadata": {
        "id": "4Xhgk0F7uCTy"
      },
      "execution_count": 1,
      "outputs": []
    },
    {
      "cell_type": "markdown",
      "source": [
        "# Функция распределения Гаусса"
      ],
      "metadata": {
        "id": "2HIXlCAvx0_6"
      }
    },
    {
      "cell_type": "code",
      "source": [
        "def dist_gaus(x:float) -> float:\n",
        "    return np.exp(-np.pi * x**2)"
      ],
      "metadata": {
        "id": "OUnSIU8ruVUj"
      },
      "execution_count": 132,
      "outputs": []
    },
    {
      "cell_type": "markdown",
      "source": [
        "# Функция распределения Коши"
      ],
      "metadata": {
        "id": "Se7sO3-Mx495"
      }
    },
    {
      "cell_type": "code",
      "source": [
        "def dist_exp(x:float) -> float:\n",
        "    # return 0.25 * np.exp(-0.25 * x)\n",
        "    return 1 / np.pi * (1 / (1 + x**2))"
      ],
      "metadata": {
        "id": "_zw6vA_Rw87-"
      },
      "execution_count": 147,
      "outputs": []
    },
    {
      "cell_type": "markdown",
      "source": [
        "# Функция визуализации результатов"
      ],
      "metadata": {
        "id": "4_VZ8bB6x9qb"
      }
    },
    {
      "cell_type": "code",
      "source": [
        "def Show(function_distribution:Mapping, function_sampling:Mapping, min_number_points:int=100):\n",
        "    x_cords = np.linspace(-4, 4, 1000)\n",
        "    y_cords = function_distribution(x_cords)\n",
        "    plt.plot(x_cords, y_cords)\n",
        "    sample_points = function_sampling(function_distribution, min_number_points)\n",
        "    plt.hist(sample_points, bins=10, density=True, color='pink')"
      ],
      "metadata": {
        "id": "Es_6hzxbyFRP"
      },
      "execution_count": 160,
      "outputs": []
    },
    {
      "cell_type": "markdown",
      "source": [
        "# Реализация алгоритма Rejection Sampling"
      ],
      "metadata": {
        "id": "Qiy85dubyFgg"
      }
    },
    {
      "cell_type": "code",
      "source": [
        "def Rejection_Sampling(function_distribution:Mapping, min_number_points:int=100):\n",
        "    positive_points_x = list()\n",
        "    count_points = 0\n",
        "    while count_points < min_number_points:\n",
        "        x = random.random() * 8 - 4\n",
        "        y = random.uniform(0, 1)\n",
        "        if y < function_distribution(x):\n",
        "            positive_points_x.append(x)\n",
        "            count_points += 1\n",
        "    return positive_points_x"
      ],
      "metadata": {
        "id": "yM10QQk4xAfg"
      },
      "execution_count": 161,
      "outputs": []
    },
    {
      "cell_type": "markdown",
      "source": [
        "# Реализация алгоритма Метрополиса Гастингса"
      ],
      "metadata": {
        "id": "P8kfCPHuyXq7"
      }
    },
    {
      "cell_type": "code",
      "source": [
        "def Metropolis_Of_Hastings(function_distribution:Mapping, min_number_points:int=100):\n",
        "    start_point = random.random() * 8 - 4\n",
        "    count_points = 0\n",
        "    positive_point = list()\n",
        "    while count_points < min_number_points:\n",
        "        new_point = function_distribution(start_point) + np.random.normal(size=1)*2\n",
        "        if random.random() < function_distribution(new_point) / function_distribution(start_point):\n",
        "            positive_point.append(new_point[0])\n",
        "            start_point = new_point[0]\n",
        "            count_points += 1\n",
        "    return positive_point"
      ],
      "metadata": {
        "id": "dZSEOSPaxFGB"
      },
      "execution_count": 162,
      "outputs": []
    },
    {
      "cell_type": "markdown",
      "source": [
        "# Результаты работы алгоритма Rejection Sampling"
      ],
      "metadata": {
        "id": "KtHK45mIyezl"
      }
    },
    {
      "cell_type": "markdown",
      "source": [
        "### Первое распределение "
      ],
      "metadata": {
        "id": "M74rwmIZXsJh"
      }
    },
    {
      "cell_type": "code",
      "source": [
        "Show(function_distribution=dist_gaus, function_sampling=Rejection_Sampling)"
      ],
      "metadata": {
        "colab": {
          "base_uri": "https://localhost:8080/",
          "height": 265
        },
        "id": "eJz9eMbZxqgW",
        "outputId": "235391ee-2e28-4c7e-85cb-5deead5390ce"
      },
      "execution_count": 163,
      "outputs": [
        {
          "output_type": "display_data",
          "data": {
            "text/plain": [
              "<Figure size 432x288 with 1 Axes>"
            ],
            "image/png": "[encoded data removed]"
          },
          "metadata": {
            "needs_background": "light"
          }
        }
      ]
    },
    {
      "cell_type": "markdown",
      "source": [
        "### Второе распредение"
      ],
      "metadata": {
        "id": "nBLw24D3X20y"
      }
    },
    {
      "cell_type": "code",
      "source": [
        "Show(function_distribution=dist_exp, function_sampling=Rejection_Sampling)"
      ],
      "metadata": {
        "colab": {
          "base_uri": "https://localhost:8080/",
          "height": 265
        },
        "id": "yP2JLsphXEfv",
        "outputId": "8731f771-15fd-4bce-e28b-11804907512c"
      },
      "execution_count": 164,
      "outputs": [
        {
          "output_type": "display_data",
          "data": {
            "text/plain": [
              "<Figure size 432x288 with 1 Axes>"
            ],
            "image/png": "[encoded data removed]"
          },
          "metadata": {
            "needs_background": "light"
          }
        }
      ]
    },
    {
      "cell_type": "markdown",
      "source": [
        "# Результаты работы алгоритма Метрополиса Гастингса"
      ],
      "metadata": {
        "id": "gdUmWKQyyooV"
      }
    },
    {
      "cell_type": "markdown",
      "source": [
        "### Первое распределение "
      ],
      "metadata": {
        "id": "8j5p7HsMYXDb"
      }
    },
    {
      "cell_type": "code",
      "source": [
        "Show(function_distribution=dist_gaus, function_sampling=Metropolis_Of_Hastings)"
      ],
      "metadata": {
        "colab": {
          "base_uri": "https://localhost:8080/",
          "height": 265
        },
        "id": "ejJ3Uo92yuRq",
        "outputId": "3eabb854-a78f-4b4c-d012-6b8965e909bd"
      },
      "execution_count": 165,
      "outputs": [
        {
          "output_type": "display_data",
          "data": {
            "text/plain": [
              "<Figure size 432x288 with 1 Axes>"
            ],
            "image/png": "[encoded data removed]"
          },
          "metadata": {
            "needs_background": "light"
          }
        }
      ]
    },
    {
      "cell_type": "markdown",
      "source": [
        "### Второе распредение"
      ],
      "metadata": {
        "id": "-OJYGOI3YZwc"
      }
    },
    {
      "cell_type": "code",
      "source": [
        "Show(function_distribution=dist_exp, function_sampling=Metropolis_Of_Hastings)"
      ],
      "metadata": {
        "id": "if2DcoXG3qFZ",
        "colab": {
          "base_uri": "https://localhost:8080/",
          "height": 265
        },
        "outputId": "384c982a-57ca-40a1-c605-68e66c4380dd"
      },
      "execution_count": 166,
      "outputs": [
        {
          "output_type": "display_data",
          "data": {
            "text/plain": [
              "<Figure size 432x288 with 1 Axes>"
            ],
            "image/png": "[encoded data removed]"
          },
          "metadata": {
            "needs_background": "light"
          }
        }
      ]
    },
    {
      "cell_type": "code",
      "source": [],
      "metadata": {
        "id": "O84x9jaKAuac"
      },
      "execution_count": 166,
      "outputs": []
    }
  ]
}