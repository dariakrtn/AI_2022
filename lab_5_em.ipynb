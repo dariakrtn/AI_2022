{
  "nbformat": 4,
  "nbformat_minor": 0,
  "metadata": {
    "colab": {
      "provenance": [],
      "include_colab_link": true
    },
    "kernelspec": {
      "name": "python3",
      "display_name": "Python 3"
    },
    "language_info": {
      "name": "python"
    }
  },
  "cells": [
    {
      "cell_type": "markdown",
      "metadata": {
        "id": "view-in-github",
        "colab_type": "text"
      },
      "source": [
        "<a href=\"https://colab.research.google.com/github/dariakrtn/AI_2022/blob/main/lab_5_em.ipynb\" target=\"_parent\"><img src=\"https://colab.research.google.com/assets/colab-badge.svg\" alt=\"Open In Colab\"/></a>"
      ]
    },
    {
      "cell_type": "markdown",
      "source": [
        "# 0. *Импорт библиотек*"
      ],
      "metadata": {
        "id": "OQ08CwCkXpui"
      }
    },
    {
      "cell_type": "code",
      "source": [
        "import numpy as np\n",
        "import math\n",
        "from matplotlib import pyplot as plt\n",
        "from sklearn.mixture import GaussianMixture\n",
        "\n",
        "%matplotlib inline\n",
        "\n",
        "data_size = 1000"
      ],
      "metadata": {
        "id": "-rppr8r8ffkB"
      },
      "execution_count": 1,
      "outputs": []
    },
    {
      "cell_type": "markdown",
      "source": [
        "# *1. Генерация данных*"
      ],
      "metadata": {
        "id": "5xoxY1xPflyo"
      }
    },
    {
      "cell_type": "markdown",
      "source": [
        "### *Равномерное распределение*"
      ],
      "metadata": {
        "id": "n1I9FJdDec22"
      }
    },
    {
      "cell_type": "code",
      "source": [
        "clust_a = np.random.uniform(1, 4, size=data_size)\n",
        "a_hist = plt.hist(clust_a, bins=100, color='purple')"
      ],
      "metadata": {
        "colab": {
          "base_uri": "https://localhost:8080/",
          "height": 265
        },
        "id": "e44oQcI0f7x2",
        "outputId": "60fa58ef-1960-440b-fcd4-32840cf00820"
      },
      "execution_count": 2,
      "outputs": [
        {
          "output_type": "display_data",
          "data": {
            "text/plain": [
              "<Figure size 432x288 with 1 Axes>"
            ],
            "image/png": "[encoded data removed]"
          },
          "metadata": {
            "needs_background": "light"
          }
        }
      ]
    },
    {
      "cell_type": "markdown",
      "source": [
        "### *Гаусиана*"
      ],
      "metadata": {
        "id": "4NKx3iYYf9FG"
      }
    },
    {
      "cell_type": "code",
      "source": [
        "gaus_dist_clustter_a = np.random.normal(-4, 3, size=data_size)\n",
        "b_hist = plt.hist(gaus_dist_clustter_a, bins=100, color='pink')"
      ],
      "metadata": {
        "colab": {
          "base_uri": "https://localhost:8080/",
          "height": 265
        },
        "id": "tUS7509-gARM",
        "outputId": "17c9de57-8223-4eec-cb99-b66abf75f735"
      },
      "execution_count": 3,
      "outputs": [
        {
          "output_type": "display_data",
          "data": {
            "text/plain": [
              "<Figure size 432x288 with 1 Axes>"
            ],
            "image/png": "[encoded data removed]"
          },
          "metadata": {
            "needs_background": "light"
          }
        }
      ]
    },
    {
      "cell_type": "markdown",
      "source": [
        "### *Распределение с двумя пиками*"
      ],
      "metadata": {
        "id": "ivUEnr2XTdyZ"
      }
    },
    {
      "cell_type": "code",
      "source": [
        "gaus_dist_clustter_b = np.random.normal(4, 3, size=data_size)\n",
        "\n",
        "gaus_dist = np.hstack((gaus_dist_clustter_a, gaus_dist_clustter_b))\n",
        "\n",
        "a_hist = plt.hist(gaus_dist, bins=100, color='teal')"
      ],
      "metadata": {
        "colab": {
          "base_uri": "https://localhost:8080/",
          "height": 265
        },
        "id": "wxhx6E9yOq0o",
        "outputId": "b71df11c-b746-4447-e9f2-83849f162c71"
      },
      "execution_count": 4,
      "outputs": [
        {
          "output_type": "display_data",
          "data": {
            "text/plain": [
              "<Figure size 432x288 with 1 Axes>"
            ],
            "image/png": "[encoded data removed]"
          },
          "metadata": {
            "needs_background": "light"
          }
        }
      ]
    },
    {
      "cell_type": "markdown",
      "source": [
        "# *2. Реализация алгоритма Парзена Розенблата*"
      ],
      "metadata": {
        "id": "bOB6Ke-UgIA-"
      }
    },
    {
      "cell_type": "code",
      "source": [
        "def probability_density(x):\n",
        "    return 1 / ((2 * math.pi) ** 0.5) * np.exp(-1/2 * (x ** 2))"
      ],
      "metadata": {
        "id": "mVqfw3Rve3cs"
      },
      "execution_count": 5,
      "outputs": []
    },
    {
      "cell_type": "code",
      "source": [
        "def EM(x, h, data):\n",
        "    return sum([probability_density((x - i) / h) for i in data]) / (len(data) * h)"
      ],
      "metadata": {
        "id": "YWe60Bbze5nv"
      },
      "execution_count": 6,
      "outputs": []
    },
    {
      "cell_type": "markdown",
      "source": [
        "### *Востанавливаем плотность на Гаусане*"
      ],
      "metadata": {
        "id": "0ERMNRb_fpKJ"
      }
    },
    {
      "cell_type": "code",
      "source": [
        "x = np.linspace(min(gaus_dist_clustter_a), max(gaus_dist_clustter_a), len(gaus_dist_clustter_a))\n",
        "\n",
        "plt.hist(gaus_dist_clustter_a, bins=100, density=True, color='silver')\n",
        "plt.plot(x, EM(x, 0.5, gaus_dist_clustter_a))"
      ],
      "metadata": {
        "colab": {
          "base_uri": "https://localhost:8080/",
          "height": 283
        },
        "id": "nQVqnOl3gT_8",
        "outputId": "3a6654fd-1385-43fe-908b-06e0d29d3d43"
      },
      "execution_count": 7,
      "outputs": [
        {
          "output_type": "execute_result",
          "data": {
            "text/plain": [
              "[<matplotlib.lines.Line2D at 0x7f30477e2580>]"
            ]
          },
          "metadata": {},
          "execution_count": 7
        },
        {
          "output_type": "display_data",
          "data": {
            "text/plain": [
              "<Figure size 432x288 with 1 Axes>"
            ],
            "image/png": "[encoded data removed]"
          },
          "metadata": {
            "needs_background": "light"
          }
        }
      ]
    },
    {
      "cell_type": "markdown",
      "source": [
        "### *Востанавливаем плотность на тестовых данных*"
      ],
      "metadata": {
        "id": "DujhSgZjgdlf"
      }
    },
    {
      "cell_type": "code",
      "source": [
        "x = np.linspace(min(clust_a), max(clust_a), len(clust_a))\n",
        "\n",
        "plt.hist(clust_a, bins=100, density=True, color='pink')\n",
        "plt.plot(x, EM(x, 0.2, clust_a))"
      ],
      "metadata": {
        "id": "dpeA5yRDgkvh",
        "colab": {
          "base_uri": "https://localhost:8080/",
          "height": 283
        },
        "outputId": "c8ab7971-a8e2-46d3-8f1f-0c668bbdb868"
      },
      "execution_count": 8,
      "outputs": [
        {
          "output_type": "execute_result",
          "data": {
            "text/plain": [
              "[<matplotlib.lines.Line2D at 0x7f30476511c0>]"
            ]
          },
          "metadata": {},
          "execution_count": 8
        },
        {
          "output_type": "display_data",
          "data": {
            "text/plain": [
              "<Figure size 432x288 with 1 Axes>"
            ],
            "image/png": "[encoded data removed]"
          },
          "metadata": {
            "needs_background": "light"
          }
        }
      ]
    },
    {
      "cell_type": "markdown",
      "source": [
        "# *3. Оптимизация ширины окна методом LOO*"
      ],
      "metadata": {
        "id": "EYuHw7bcgqAt"
      }
    },
    {
      "cell_type": "code",
      "source": [
        "def LOO(data: list, h: float) -> float:\n",
        "    return -sum([math.log(EM(data[i], h, data)) for i in range(len(data))])\n",
        "\n",
        "plt.hist(gaus_dist_clustter_a, bins=100, density=True, color='purple')\n",
        "LOO(gaus_dist_clustter_a, 0.5)"
      ],
      "metadata": {
        "colab": {
          "base_uri": "https://localhost:8080/",
          "height": 283
        },
        "id": "1dSjCsulgzuu",
        "outputId": "7653190c-579a-4937-8b6f-c9fb00435c84"
      },
      "execution_count": 9,
      "outputs": [
        {
          "output_type": "execute_result",
          "data": {
            "text/plain": [
              "2486.037025860743"
            ]
          },
          "metadata": {},
          "execution_count": 9
        },
        {
          "output_type": "display_data",
          "data": {
            "text/plain": [
              "<Figure size 432x288 with 1 Axes>"
            ],
            "image/png": "[encoded data removed]"
          },
          "metadata": {
            "needs_background": "light"
          }
        }
      ]
    },
    {
      "cell_type": "markdown",
      "source": [
        "# *4. Применение EM алгоритма из sklearn для данных с двумя пиками*"
      ],
      "metadata": {
        "id": "lZ55AlUSg6Cn"
      }
    },
    {
      "cell_type": "code",
      "source": [
        "gaus_dist = gaus_dist.reshape(-1, 1)\n",
        "gm = GaussianMixture(n_components=2, random_state=0).fit(gaus_dist)\n",
        "\n",
        "x = np.linspace(0, 1, 1000)\n",
        "y_green = gm.predict_proba(np.array(x).reshape(-1, 1))[:,0]\n",
        "y_purple = gm.predict_proba(np.array(x).reshape(-1, 1))[:,1]\n",
        "\n",
        "plt.plot(x, y_green, color = 'green')\n",
        "plt.plot(x, y_purple, color = 'purple')"
      ],
      "metadata": {
        "colab": {
          "base_uri": "https://localhost:8080/",
          "height": 283
        },
        "id": "wmRaC9zxhGGo",
        "outputId": "43e8fc7a-82b0-459a-fddb-84965d9fd77e"
      },
      "execution_count": 12,
      "outputs": [
        {
          "output_type": "execute_result",
          "data": {
            "text/plain": [
              "[<matplotlib.lines.Line2D at 0x7f304541ad60>]"
            ]
          },
          "metadata": {},
          "execution_count": 12
        },
        {
          "output_type": "display_data",
          "data": {
            "text/plain": [
              "<Figure size 432x288 with 1 Axes>"
            ],
            "image/png": "[encoded data removed]"
          },
          "metadata": {
            "needs_background": "light"
          }
        }
      ]
    }
  ]
}