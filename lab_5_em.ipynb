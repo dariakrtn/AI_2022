{
  "nbformat": 4,
  "nbformat_minor": 0,
  "metadata": {
    "colab": {
      "provenance": [],
      "include_colab_link": true
    },
    "kernelspec": {
      "name": "python3",
      "display_name": "Python 3"
    },
    "language_info": {
      "name": "python"
    }
  },
  "cells": [
    {
      "cell_type": "markdown",
      "metadata": {
        "id": "view-in-github",
        "colab_type": "text"
      },
      "source": [
        "<a href=\"https://colab.research.google.com/github/dariakrtn/AI_2022/blob/main/lab_5_em.ipynb\" target=\"_parent\"><img src=\"https://colab.research.google.com/assets/colab-badge.svg\" alt=\"Open In Colab\"/></a>"
      ]
    },
    {
      "cell_type": "code",
      "execution_count": 2,
      "metadata": {
        "id": "TJfqOwPsfZS8"
      },
      "outputs": [],
      "source": [
        "# collective communication \n",
        "# Решить по аналогии интегрирование метода монтекарла методом сэмплирования \n",
        "# алгоритм востановления плотности \n",
        "# 1)написать 3 штуки генератора данных(точуи на плоскости) рвномерное, гаусиана и два пика \n",
        "# 2)написать реализацию метода парзена-розенблата\n",
        "# 3) На тостовых даннх 2 на 1 востанавливаем плотность в виде картинок PR(h, k) вывести картинку \n",
        "# 4) для одного из трех наборов применить оптимизацию ширины окна методом liave one out (LOO)\n",
        "# 5) Для данных с двумя горбами или более горбами применить EM алгоритм из sklearn (после применения можем напечать параметры на эеран, посмотреть кол-во итераций, нарисовать графики по парамертам в гайде sklearn есть примеры)"
      ]
    },
    {
      "cell_type": "code",
      "source": [
        "import numpy as np\n",
        "from matplotlib import pyplot as plt\n",
        "%matplotlib inline\n",
        "\n",
        "data_size = 1000"
      ],
      "metadata": {
        "id": "-rppr8r8ffkB"
      },
      "execution_count": 3,
      "outputs": []
    },
    {
      "cell_type": "markdown",
      "source": [
        "# Генерация данных\n",
        "\n",
        "### Равномерное распределение"
      ],
      "metadata": {
        "id": "5xoxY1xPflyo"
      }
    },
    {
      "cell_type": "code",
      "source": [
        "clust_a = np.random.uniform(1, 4, size=data_size)\n",
        "a_hist = plt.hist(clust_a, bins=100, color='purple')"
      ],
      "metadata": {
        "colab": {
          "base_uri": "https://localhost:8080/",
          "height": 265
        },
        "id": "e44oQcI0f7x2",
        "outputId": "dce950bf-43fa-4d30-a68d-658331fb185d"
      },
      "execution_count": 27,
      "outputs": [
        {
          "output_type": "display_data",
          "data": {
            "text/plain": [
              "<Figure size 432x288 with 1 Axes>"
            ],
            "image/png": "[encoded data removed]"
          },
          "metadata": {
            "needs_background": "light"
          }
        }
      ]
    },
    {
      "cell_type": "markdown",
      "source": [
        "### Гаусиана"
      ],
      "metadata": {
        "id": "4NKx3iYYf9FG"
      }
    },
    {
      "cell_type": "code",
      "source": [
        "gaus_dist_clustter_a = np.random.normal(-4, 3, size=data_size)\n",
        "b_hist = plt.hist(gaus_dist_clustter_a, bins=100, color='pink')"
      ],
      "metadata": {
        "colab": {
          "base_uri": "https://localhost:8080/",
          "height": 265
        },
        "id": "tUS7509-gARM",
        "outputId": "49ee3e2d-f805-47e9-b812-8ae372ae4eaa"
      },
      "execution_count": 28,
      "outputs": [
        {
          "output_type": "display_data",
          "data": {
            "text/plain": [
              "<Figure size 432x288 with 1 Axes>"
            ],
            "image/png": "[encoded data removed]"
          },
          "metadata": {
            "needs_background": "light"
          }
        }
      ]
    },
    {
      "cell_type": "markdown",
      "source": [
        "### Распределение с двумя пиками"
      ],
      "metadata": {
        "id": "ivUEnr2XTdyZ"
      }
    },
    {
      "cell_type": "code",
      "source": [
        "gaus_dist_clustter_b = np.random.normal(4, 3, size=data_size)\n",
        "\n",
        "gaus_dist = np.hstack((gaus_dist_clustter_a, gaus_dist_clustter_b))\n",
        "#gaus = np.array([gaus_dist_clustter_a, gaus_dist_clustter_b])\n",
        "\n",
        "a_hist = plt.hist(gaus_dist, bins=100, color='teal')"
      ],
      "metadata": {
        "colab": {
          "base_uri": "https://localhost:8080/",
          "height": 265
        },
        "id": "wxhx6E9yOq0o",
        "outputId": "45a84310-ccb1-4745-f6ee-c1517c6df972"
      },
      "execution_count": 29,
      "outputs": [
        {
          "output_type": "display_data",
          "data": {
            "text/plain": [
              "<Figure size 432x288 with 1 Axes>"
            ],
            "image/png": "[encoded data removed]"
          },
          "metadata": {
            "needs_background": "light"
          }
        }
      ]
    },
    {
      "cell_type": "markdown",
      "source": [
        "# Реализация алгоритма Парзена Розенблата"
      ],
      "metadata": {
        "id": "bOB6Ke-UgIA-"
      }
    },
    {
      "cell_type": "code",
      "source": [
        "import math\n",
        "\n",
        "def probability_density(x):\n",
        "    return 1 / ((2 * math.pi) ** 0.5) * np.exp(-1/2 * (x ** 2))\n",
        "\n",
        "def EM(x, h, data):\n",
        "    return sum([probability_density((x - i) / h) for i in data]) / (len(data) * h)\n",
        "\n",
        "\n",
        "x = np.linspace(min(gaus_dist_clustter_a), max(gaus_dist_clustter_a), len(gaus_dist_clustter_a))\n",
        "\n",
        "plt.hist(gaus_dist_clustter_a, bins=100, density=True, color='silver')\n",
        "plt.plot(x, EM(x, 0.5, gaus_dist_clustter_a))"
      ],
      "metadata": {
        "colab": {
          "base_uri": "https://localhost:8080/",
          "height": 283
        },
        "id": "nQVqnOl3gT_8",
        "outputId": "ad931aab-5eed-4f8e-c447-a1cff0e73bde"
      },
      "execution_count": 30,
      "outputs": [
        {
          "output_type": "execute_result",
          "data": {
            "text/plain": [
              "[<matplotlib.lines.Line2D at 0x7f25399b5fa0>]"
            ]
          },
          "metadata": {},
          "execution_count": 30
        },
        {
          "output_type": "display_data",
          "data": {
            "text/plain": [
              "<Figure size 432x288 with 1 Axes>"
            ],
            "image/png": "[encoded data removed]"
          },
          "metadata": {
            "needs_background": "light"
          }
        }
      ]
    },
    {
      "cell_type": "markdown",
      "source": [
        "### Востанавливаем плотность на тестовых данных"
      ],
      "metadata": {
        "id": "DujhSgZjgdlf"
      }
    },
    {
      "cell_type": "code",
      "source": [
        "x = np.linspace(min(clust_a), max(clust_a), len(clust_a))\n",
        "\n",
        "plt.hist(clust_a, bins=100, density=True, color='pink')\n",
        "plt.plot(x, EM(x, 0.2, clust_a))"
      ],
      "metadata": {
        "id": "dpeA5yRDgkvh",
        "colab": {
          "base_uri": "https://localhost:8080/",
          "height": 283
        },
        "outputId": "3ee1d410-5985-4c8b-c0b6-c6485746fb58"
      },
      "execution_count": 31,
      "outputs": [
        {
          "output_type": "execute_result",
          "data": {
            "text/plain": [
              "[<matplotlib.lines.Line2D at 0x7f2539f47340>]"
            ]
          },
          "metadata": {},
          "execution_count": 31
        },
        {
          "output_type": "display_data",
          "data": {
            "text/plain": [
              "<Figure size 432x288 with 1 Axes>"
            ],
            "image/png": "[encoded data removed]"
          },
          "metadata": {
            "needs_background": "light"
          }
        }
      ]
    },
    {
      "cell_type": "markdown",
      "source": [
        "# Оптимизация ширины окна методом LOO"
      ],
      "metadata": {
        "id": "EYuHw7bcgqAt"
      }
    },
    {
      "cell_type": "code",
      "source": [
        "def LOO(data: list, h: float) -> float:\n",
        "    return -sum([math.log(EM(data[i], h, data)) for i in range(len(data))])\n",
        "\n",
        "plt.hist(gaus_dist_clustter_a, bins=100, density=True, color='purple')\n",
        "LOO(gaus_dist_clustter_a, 0.5)"
      ],
      "metadata": {
        "colab": {
          "base_uri": "https://localhost:8080/",
          "height": 283
        },
        "id": "1dSjCsulgzuu",
        "outputId": "ddca6eb6-59c9-4a91-b352-0c201038fc81"
      },
      "execution_count": 32,
      "outputs": [
        {
          "output_type": "execute_result",
          "data": {
            "text/plain": [
              "2495.929643502996"
            ]
          },
          "metadata": {},
          "execution_count": 32
        },
        {
          "output_type": "display_data",
          "data": {
            "text/plain": [
              "<Figure size 432x288 with 1 Axes>"
            ],
            "image/png": "[encoded data removed]"
          },
          "metadata": {
            "needs_background": "light"
          }
        }
      ]
    },
    {
      "cell_type": "markdown",
      "source": [
        "# Применение EM алгоритма из sklearn для данных с двумя горбами"
      ],
      "metadata": {
        "id": "lZ55AlUSg6Cn"
      }
    },
    {
      "cell_type": "code",
      "source": [
        "from sklearn.mixture import GaussianMixture\n",
        "\n",
        "gaus_dist = gaus_dist.reshape(-1, 1)\n",
        "print(np.array(gaus_dist).shape)\n",
        "gm = GaussianMixture(n_components=2, random_state=0).fit(gaus_dist)\n",
        "x = np.linspace(0, 1, 1000)\n",
        "y_red = gm.predict_proba(np.array(x).reshape(-1, 1))[:,0]\n",
        "y_blue = gm.predict_proba(np.array(x).reshape(-1, 1))[:,1]\n",
        "plt.plot(x, y_red, color = 'green')\n",
        "plt.plot(x, y_blue, color = 'purple')"
      ],
      "metadata": {
        "colab": {
          "base_uri": "https://localhost:8080/",
          "height": 301
        },
        "id": "wmRaC9zxhGGo",
        "outputId": "9a382981-85b6-4420-feb5-ac627d55335e"
      },
      "execution_count": 33,
      "outputs": [
        {
          "output_type": "stream",
          "name": "stdout",
          "text": [
            "(2000, 1)\n"
          ]
        },
        {
          "output_type": "execute_result",
          "data": {
            "text/plain": [
              "[<matplotlib.lines.Line2D at 0x7f25455077c0>]"
            ]
          },
          "metadata": {},
          "execution_count": 33
        },
        {
          "output_type": "display_data",
          "data": {
            "text/plain": [
              "<Figure size 432x288 with 1 Axes>"
            ],
            "image/png": "[encoded data removed]"
          },
          "metadata": {
            "needs_background": "light"
          }
        }
      ]
    },
    {
      "cell_type": "code",
      "source": [],
      "metadata": {
        "id": "gTHbW8kVUWXy"
      },
      "execution_count": null,
      "outputs": []
    }
  ]
}