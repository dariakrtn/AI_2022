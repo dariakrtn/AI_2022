{
  "nbformat": 4,
  "nbformat_minor": 0,
  "metadata": {
    "colab": {
      "provenance": [],
      "collapsed_sections": [
        "vLTTP_BNVLSv",
        "dW8E3EBsVV2q",
        "Ea72wQLXVf7R",
        "1AgA-GPcVkUF",
        "voiqknXbVl0R"
      ],
      "authorship_tag": "ABX9TyPgM4yfp9w3yhCUFzwzAKyJ",
      "include_colab_link": true
    },
    "kernelspec": {
      "name": "python3",
      "display_name": "Python 3"
    },
    "language_info": {
      "name": "python"
    }
  },
  "cells": [
    {
      "cell_type": "markdown",
      "metadata": {
        "id": "view-in-github",
        "colab_type": "text"
      },
      "source": [
        "<a href=\"https://colab.research.google.com/github/dariakrtn/AI_2022/blob/main/lab_3_NUMBA.ipynb\" target=\"_parent\"><img src=\"https://colab.research.google.com/assets/colab-badge.svg\" alt=\"Open In Colab\"/></a>"
      ]
    },
    {
      "cell_type": "markdown",
      "source": [
        "# 0. *Импорт библиотек и вспомогательные функции/классы*"
      ],
      "metadata": {
        "id": "vLTTP_BNVLSv"
      }
    },
    {
      "cell_type": "code",
      "source": [
        "import numpy as np\n",
        "from mpl_toolkits import mplot3d\n",
        "%matplotlib inline\n",
        "import numpy as np\n",
        "import matplotlib.pyplot as plt\n",
        "from mpl_toolkits.mplot3d import Axes3D\n",
        "from typing import Tuple, Mapping"
      ],
      "metadata": {
        "id": "xjcVOnGbdFB2"
      },
      "execution_count": 16,
      "outputs": []
    },
    {
      "cell_type": "code",
      "source": [
        "%matplotlib inline\n",
        "import numpy as np\n",
        "import matplotlib.pyplot as plt\n",
        "import math"
      ],
      "metadata": {
        "id": "RuN2XZIuc0rL"
      },
      "execution_count": 17,
      "outputs": []
    },
    {
      "cell_type": "code",
      "source": [
        "import numba\n",
        "from numba import jit"
      ],
      "metadata": {
        "id": "cNO6vGETdnha"
      },
      "execution_count": 18,
      "outputs": []
    },
    {
      "cell_type": "code",
      "source": [
        "import timeit"
      ],
      "metadata": {
        "id": "UeA2gnOSge3y"
      },
      "execution_count": 19,
      "outputs": []
    },
    {
      "cell_type": "markdown",
      "source": [
        "Реализация шедулера"
      ],
      "metadata": {
        "id": "N7YT1t_EWBxC"
      }
    },
    {
      "cell_type": "code",
      "source": [
        "class Lr:\n",
        "  def __init__(self, lr) -> None:\n",
        "    self.lr = lr\n",
        "\n",
        "  def step(self):\n",
        "    self.lr -= 0.0001"
      ],
      "metadata": {
        "id": "4pBXPZlkc4QW"
      },
      "execution_count": 20,
      "outputs": []
    },
    {
      "cell_type": "markdown",
      "source": [
        "# 1. Функция Матьяса \n",
        "\n",
        "$0.26 (x^2 + y^2) - 0.48  x y$"
      ],
      "metadata": {
        "id": "dW8E3EBsVV2q"
      }
    },
    {
      "cell_type": "code",
      "source": [
        "def f_mat (x: np.array, y:np.array) -> np.float128:\n",
        "  return 0.26*(x*x +y*y)-0.48*x*y"
      ],
      "metadata": {
        "id": "6_oD61hucs6x"
      },
      "execution_count": 21,
      "outputs": []
    },
    {
      "cell_type": "code",
      "source": [
        "def dx_mat (x: np.array, y:np.array) -> np.float128:\n",
        "  return 0.52 *x -0.48*y"
      ],
      "metadata": {
        "id": "UCQtOp-ZcurO"
      },
      "execution_count": 22,
      "outputs": []
    },
    {
      "cell_type": "code",
      "source": [
        "def dy_mat(x: np.array, y:np.array) -> np.float128:\n",
        "  return 0.52 * y - 0.48*x"
      ],
      "metadata": {
        "id": "F_Ef8KADcw8g"
      },
      "execution_count": 23,
      "outputs": []
    },
    {
      "cell_type": "markdown",
      "source": [
        "# 2. *Градиентный метод* \n"
      ],
      "metadata": {
        "id": "Ea72wQLXVf7R"
      }
    },
    {
      "cell_type": "code",
      "execution_count": 31,
      "metadata": {
        "id": "Jch0Bi5Lcp_5"
      },
      "outputs": [],
      "source": [
        "def GD( f: Mapping, dx: Mapping, dy: Mapping, point: np.array, lr: float, iter: int, l: float, r:float):\n",
        "  '''\n",
        "  f - входная функция\n",
        "  dx, - производная функции по х\n",
        "  dy, - производная функция по y\n",
        "  point - точка входа\n",
        "  lr, -  learning rate шаг\n",
        "  iter, - кол-во итераций\n",
        "  l, r - левая и правая граница x, y\n",
        "  '''\n",
        "  lr = Lr(lr)\n",
        "\n",
        "  for _ in range(iter):\n",
        "    gx= dx(point[0], point[1])\n",
        "    gy = dy(point[0], point[1])\n",
        "\n",
        "    point[0] = point[0] - gx * lr.lr\n",
        "    point[1] = point[1] - gy * lr.lr\n",
        "\n",
        "  return point"
      ]
    },
    {
      "cell_type": "code",
      "source": [
        "point = np.array([-10,10])\n",
        "and_point = GD(f_mat, dx_mat, dy_mat, point, 0.001, 10, -10, 10 )\n",
        "print(f_mat(point[0], point[1]), and_point)\n",
        "%timeit -n100 GD(f_mat, dx_mat, dy_mat, point, 0.001, 10, -10, 10 )"
      ],
      "metadata": {
        "colab": {
          "base_uri": "https://localhost:8080/"
        },
        "id": "JRoPQefafT8N",
        "outputId": "014e2c41-e8ef-4c95-de7a-7a840dbbe658"
      },
      "execution_count": 32,
      "outputs": [
        {
          "output_type": "stream",
          "name": "stdout",
          "text": [
            "0.0 [0 0]\n",
            "70.5 µs ± 2.67 µs per loop (mean ± std. dev. of 7 runs, 100 loops each)\n"
          ]
        }
      ]
    },
    {
      "cell_type": "markdown",
      "source": [
        "# 3. Функция Матьяса c Numba \n"
      ],
      "metadata": {
        "id": "1AgA-GPcVkUF"
      }
    },
    {
      "cell_type": "code",
      "source": [
        "@numba.njit(fastmath=True)\n",
        "def f_mat (x: np.array, y:np.array) -> np.float128:\n",
        "  return 0.26*(x*x +y*y)-0.48*x*y"
      ],
      "metadata": {
        "id": "ON4AQkordzYH"
      },
      "execution_count": 26,
      "outputs": []
    },
    {
      "cell_type": "code",
      "source": [
        "@numba.njit(fastmath=True)\n",
        "def dx_mat (x: np.array, y:np.array) -> np.float128:\n",
        "  return 0.52 *x -0.48*y"
      ],
      "metadata": {
        "id": "Pa2Gpxp2d0ao"
      },
      "execution_count": 27,
      "outputs": []
    },
    {
      "cell_type": "code",
      "source": [
        "@numba.njit(fastmath=True)\n",
        "def dy_mat(x: np.array, y:np.array) -> np.float128:\n",
        "  return 0.52 * y - 0.48*x"
      ],
      "metadata": {
        "id": "3vOywJOZd32P"
      },
      "execution_count": 28,
      "outputs": []
    },
    {
      "cell_type": "markdown",
      "source": [
        "# 4. *Градиентный метод c Numba* \n"
      ],
      "metadata": {
        "id": "voiqknXbVl0R"
      }
    },
    {
      "cell_type": "code",
      "source": [
        "@numba.njit(fastmath=True)\n",
        "def NUMBA_GD( point: np.array, lr: float, iter: int, l: float, r:float):\n",
        "  '''\n",
        "  point - точка входа\n",
        "  lr, -  learning rate шаг\n",
        "  iter, - кол-во итераций\n",
        "  l, r - левая и правая граница x, y\n",
        "  '''\n",
        "\n",
        "  for _ in range(iter):\n",
        "    gx= dx_mat(point[0], point[1])\n",
        "    gy = dy_mat(point[0], point[1])\n",
        "\n",
        "    point[0] = point[0] - gx * lr\n",
        "    point[1] = point[1] - gy * lr\n",
        "    lr -= 0.0001\n",
        "\n",
        "  return point"
      ],
      "metadata": {
        "id": "4ISndpSCdMfI"
      },
      "execution_count": 33,
      "outputs": []
    },
    {
      "cell_type": "code",
      "source": [
        "point = np.array([-10,10])\n",
        "and_point = NUMBA_GD(point, 0.001, 10, -10, 10 )\n",
        "print(f_mat(point[0], point[1]), and_point)\n",
        "%timeit -n100 NUMBA_GD(point, 0.001, 10, -10, 10 )"
      ],
      "metadata": {
        "colab": {
          "base_uri": "https://localhost:8080/"
        },
        "id": "--BbvMCFduEF",
        "outputId": "33fed2b7-fe41-4ef2-a210-d4e16fbd0cc6"
      },
      "execution_count": 34,
      "outputs": [
        {
          "output_type": "stream",
          "name": "stdout",
          "text": [
            "0.0 [0 0]\n",
            "941 ns ± 75.6 ns per loop (mean ± std. dev. of 7 runs, 100 loops each)\n"
          ]
        }
      ]
    },
    {
      "cell_type": "code",
      "source": [],
      "metadata": {
        "id": "3JeAVw3_dMZE"
      },
      "execution_count": 30,
      "outputs": []
    }
  ]
}